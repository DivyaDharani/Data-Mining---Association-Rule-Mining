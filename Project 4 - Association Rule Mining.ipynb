{
 "cells": [
  {
   "cell_type": "code",
   "execution_count": 1,
   "metadata": {},
   "outputs": [],
   "source": [
    "import pandas as pd\n",
    "import numpy as np\n",
    "from datetime import datetime, timedelta\n",
    "import math\n",
    "\n",
    "import warnings\n",
    "warnings.filterwarnings(\"ignore\")"
   ]
  },
  {
   "cell_type": "code",
   "execution_count": 2,
   "metadata": {},
   "outputs": [],
   "source": [
    "def get_datasets(insulin_data_file_path, cgm_data_file_path, date_time_format):\n",
    "    if date_time_format == '':\n",
    "        date_time_format = '%m/%d/%Y %H:%M:%S'\n",
    "    insulin_dataset_full = pd.read_csv(insulin_data_file_path, low_memory = False)\n",
    "    insulin_data = insulin_dataset_full[['Date', 'Time', 'BWZ Carb Input (grams)', 'BWZ Estimate (U)']]\n",
    "    cgm_data_set_full = pd.read_csv(cgm_data_file_path, low_memory = False)\n",
    "    cgm_data = cgm_data_set_full[['Date', 'Time', 'Sensor Glucose (mg/dL)']]\n",
    "    cgm_data.dropna(inplace = True)\n",
    "    insulin_data['DateTime'] = pd.to_datetime(insulin_data['Date'] + ' ' + insulin_data['Time'], format = date_time_format)\n",
    "    cgm_data['DateTime'] = pd.to_datetime(cgm_data['Date'] + \" \" + cgm_data['Time'], format = date_time_format)\n",
    "    return insulin_data, cgm_data"
   ]
  },
  {
   "cell_type": "code",
   "execution_count": 3,
   "metadata": {},
   "outputs": [],
   "source": [
    "def get_meal_start_times_with_insulin_bolus(insulin_dataset):\n",
    "    insulin_data_filtered = insulin_dataset[insulin_dataset['BWZ Carb Input (grams)'].notna() & insulin_dataset['BWZ Carb Input (grams)'] != 0]\n",
    "    insulin_data_filtered.rename({'DateTime' : 'MealStartDateTime'}, axis = 1, inplace = True)\n",
    "    insulin_data_with_insulin_bolus = insulin_data_filtered[['MealStartDateTime', 'BWZ Estimate (U)']]\n",
    "    insulin_data_with_insulin_bolus.sort_values(by = 'MealStartDateTime', inplace = True)\n",
    "\n",
    "    meal_start_times_with_insulin_bolus = [(x[0], math.ceil(x[1])) for x in insulin_data_with_insulin_bolus.to_numpy()]\n",
    "    return meal_start_times_with_insulin_bolus"
   ]
  },
  {
   "cell_type": "code",
   "execution_count": 4,
   "metadata": {},
   "outputs": [],
   "source": [
    "def get_valid_meal_start_times_with_insulin_bolus(meal_start_times_with_insulin_bolus):\n",
    "    valid_meal_start_times_with_insulin_bolus = []\n",
    "    for i in range(len(meal_start_times_with_insulin_bolus)):\n",
    "        timestamp, insulin_bolus = meal_start_times_with_insulin_bolus[i]\n",
    "        if i > 0:\n",
    "            previous_timestamp = meal_start_times_with_insulin_bolus[i-1][0]\n",
    "            if previous_timestamp > timestamp - timedelta(hours = 0.5):\n",
    "                continue\n",
    "\n",
    "        if i < len(meal_start_times_with_insulin_bolus) - 1:\n",
    "            next_timestamp = meal_start_times_with_insulin_bolus[i+1][0]\n",
    "            if next_timestamp < timestamp + timedelta(hours = 2):\n",
    "                continue\n",
    "\n",
    "        valid_meal_start_times_with_insulin_bolus.append((timestamp, insulin_bolus))\n",
    "    return valid_meal_start_times_with_insulin_bolus"
   ]
  },
  {
   "cell_type": "code",
   "execution_count": 5,
   "metadata": {},
   "outputs": [],
   "source": [
    "def extract_meal_and_insulin_bolus_data(cgm_dataset, valid_meal_start_times_with_insulin_bolus):\n",
    "    cgm_dataset_sorted = cgm_dataset.sort_values(by = 'DateTime')\n",
    "    meal_data = []\n",
    "    insulin_bolus_data = []\n",
    "    cgm_at_meal_start_time_data = []\n",
    "    for meal_time, insulin_bolus in valid_meal_start_times_with_insulin_bolus:\n",
    "        start_time = meal_time - timedelta(minutes = 30)\n",
    "        end_time = meal_time + timedelta(hours = 2)\n",
    "        filtered_data = cgm_dataset[(cgm_dataset['DateTime'] >= start_time) & (cgm_dataset['DateTime'] <= end_time)]\n",
    "        if len(filtered_data) > 0:\n",
    "            meal_data.append(list(filtered_data['Sensor Glucose (mg/dL)'].values))\n",
    "            insulin_bolus_data.append(insulin_bolus)\n",
    "            cgm_at_meal_start_time_data.append(cgm_dataset_sorted[cgm_dataset_sorted['DateTime'] >= meal_time]['Sensor Glucose (mg/dL)'].iloc[0])\n",
    "    return meal_data, insulin_bolus_data, cgm_at_meal_start_time_data"
   ]
  },
  {
   "cell_type": "code",
   "execution_count": 6,
   "metadata": {},
   "outputs": [],
   "source": [
    "def get_min_max_cgm(meal_data):\n",
    "    meal_data_df = pd.DataFrame(meal_data)\n",
    "    return min(meal_data_df.min(axis = 1)), max(meal_data_df.max(axis = 1))"
   ]
  },
  {
   "cell_type": "code",
   "execution_count": 7,
   "metadata": {},
   "outputs": [],
   "source": [
    "def get_bin_list(min_value, value_list, bin_range = 20):\n",
    "    bin_list = [int((val - min_value)/bin_range) for val in value_list]\n",
    "    return bin_list"
   ]
  },
  {
   "cell_type": "code",
   "execution_count": 8,
   "metadata": {},
   "outputs": [],
   "source": [
    "def get_bins_for_max_cgm(overall_min_cgm, overall_max_cgm, meal_data):\n",
    "    meal_data_df= pd.DataFrame(meal_data)\n",
    "    max_cgm_list = meal_data_df.max(axis = 1).values.tolist()\n",
    "    max_cgm_bin_data = get_bin_list(overall_min_cgm, max_cgm_list, bin_range = 20)\n",
    "    return max_cgm_bin_data"
   ]
  },
  {
   "cell_type": "code",
   "execution_count": null,
   "metadata": {},
   "outputs": [],
   "source": []
  },
  {
   "cell_type": "code",
   "execution_count": 9,
   "metadata": {},
   "outputs": [],
   "source": [
    "def get_itemsets(insulin_data_file_path, cgm_data_file_path, date_time_format = '%m/%d/%Y %H:%M:%S'):\n",
    "    insulin_dataset, cgm_dataset = get_datasets(insulin_data_file_path, cgm_data_file_path, date_time_format)\n",
    "    meal_start_times_with_insulin_bolus = get_meal_start_times_with_insulin_bolus(insulin_dataset)\n",
    "    valid_meal_start_times_with_insulin_bolus = get_valid_meal_start_times_with_insulin_bolus(meal_start_times_with_insulin_bolus)\n",
    "    meal_data, insulin_bolus_data, cgm_at_meal_start_time_data = extract_meal_and_insulin_bolus_data(cgm_dataset, valid_meal_start_times_with_insulin_bolus)\n",
    "    overall_min_cgm, overall_max_cgm = get_min_max_cgm(meal_data)\n",
    "    B_max_data = get_bins_for_max_cgm(overall_min_cgm, overall_max_cgm, meal_data)\n",
    "    B_meal_data = get_bin_list(overall_min_cgm, cgm_at_meal_start_time_data, bin_range = 20)\n",
    "    \n",
    "    itemsets = []\n",
    "    for i in range(len(B_max_data)):\n",
    "        itemsets.append((B_max_data[i], B_meal_data[i], insulin_bolus_data[i]))\n",
    "    return itemsets"
   ]
  },
  {
   "cell_type": "code",
   "execution_count": 23,
   "metadata": {},
   "outputs": [],
   "source": [
    "def retrieve_most_frequent_itemsets(itemsets, support_count_threshold):\n",
    "    count_dict = {}\n",
    "    for itemset in itemsets:\n",
    "        if itemset not in count_dict:\n",
    "            count_dict[itemset] = 1\n",
    "        else:\n",
    "            count_dict[itemset] += 1\n",
    "        count_dict[itemset]\n",
    "    itemset_counts = list(count_dict.items())\n",
    "    itemset_counts.sort(key = lambda x: x[1], reverse = True)\n",
    "    #print(itemset_counts[0])\n",
    "    frequent_item_sets_with_count = list(filter(lambda x: x[1] >= support_count_threshold,  itemset_counts))\n",
    "    frequent_item_sets = [item[0] for item in frequent_item_sets_with_count]\n",
    "    return frequent_item_sets, frequent_item_sets_with_count, count_dict"
   ]
  },
  {
   "cell_type": "code",
   "execution_count": 24,
   "metadata": {},
   "outputs": [],
   "source": [
    "#Rules are of the form {Bmax, Bmeal} -> Insulin Bolus \n",
    "def get_confidence_of_rules(itemsets, count_dict): \n",
    "    precedent_count_dict = {}\n",
    "    for itemset in itemsets:\n",
    "        precedent = (itemset[0], itemset[1])\n",
    "        if precedent not in precedent_count_dict:\n",
    "            precedent_count_dict[precedent] = 1\n",
    "        else:\n",
    "            precedent_count_dict[precedent] += 1\n",
    "\n",
    "    confidence_dict = {}\n",
    "    for itemset in itemsets:\n",
    "        precedent = (itemset[0], itemset[1])\n",
    "        conf = itemset_count_dict[itemset] / precedent_count_dict[precedent]\n",
    "        confidence_dict[itemset] = conf\n",
    "\n",
    "    confidence_list = list(confidence_dict.items())\n",
    "    return confidence_list"
   ]
  },
  {
   "cell_type": "code",
   "execution_count": 66,
   "metadata": {
    "scrolled": false
   },
   "outputs": [],
   "source": [
    "insulin_data_file_path = 'InsulinData.csv'\n",
    "cgm_data_file_path = 'CGMData.csv'\n",
    "date_time_format = '%m/%d/%Y %H:%M:%S'\n",
    "\n",
    "support_count_threshold = 4\n",
    "low_confidence_threshold = 0.15\n",
    "\n",
    "\n",
    "itemsets = get_itemsets(insulin_data_file_path, cgm_data_file_path, date_time_format)\n",
    "frequent_item_sets, frequent_item_sets_with_count, itemset_count_dict = retrieve_most_frequent_itemsets(itemsets, support_count_threshold)\n",
    "confidence_list = get_confidence_of_rules(itemsets, itemset_count_dict)\n",
    "confidence_list.sort(key = lambda x: x[1], reverse = True)\n",
    "\n",
    "highest_confidence = confidence_list[0][1]\n",
    "highest_confidence_list = list(filter(lambda x: x[1] >= highest_confidence, confidence_list))\n",
    "low_confidence_list = list(filter(lambda x: x[1] < low_confidence_threshold, confidence_list))\n",
    "\n",
    "\n",
    "def get_rules(conf_list):\n",
    "    rules = []\n",
    "    for rule_with_conf in conf_list:\n",
    "        itemset = rule_with_conf[0]\n",
    "        rule = f'{{{itemset[0]}, {itemset[1]}}} -> {itemset[2]}'\n",
    "        #rule = '{{{0}, {1}}} -> {2}'.format(itemset[0], itemset[1], itemset[2])\n",
    "        rules.append(rule)\n",
    "    return rules\n",
    "\n",
    "highest_confidence_rules = get_rules(highest_confidence_list)\n",
    "low_confidence_rules = get_rules(low_confidence_list)\n",
    "\n"
   ]
  },
  {
   "cell_type": "code",
   "execution_count": 73,
   "metadata": {},
   "outputs": [
    {
     "data": {
      "text/plain": [
       "[(7, 5, 3),\n",
       " (6, 5, 2),\n",
       " (11, 11, 3),\n",
       " (5, 3, 7),\n",
       " (6, 2, 2),\n",
       " (12, 11, 6),\n",
       " (8, 4, 4),\n",
       " (6, 3, 3),\n",
       " (8, 4, 3),\n",
       " (7, 2, 4),\n",
       " (11, 11, 4)]"
      ]
     },
     "execution_count": 73,
     "metadata": {},
     "output_type": "execute_result"
    }
   ],
   "source": [
    "frequent_item_sets"
   ]
  },
  {
   "cell_type": "code",
   "execution_count": 69,
   "metadata": {},
   "outputs": [
    {
     "data": {
      "text/plain": [
       "['{17, 4} -> 4',\n",
       " '{14, 8} -> 5',\n",
       " '{17, 15} -> 2',\n",
       " '{15, 0} -> 3',\n",
       " '{16, 9} -> 8',\n",
       " '{18, 18} -> 3',\n",
       " '{17, 7} -> 10',\n",
       " '{13, 8} -> 6',\n",
       " '{17, 14} -> 11',\n",
       " '{8, 1} -> 7',\n",
       " '{15, 14} -> 5',\n",
       " '{14, 6} -> 4',\n",
       " '{10, 0} -> 5',\n",
       " '{12, 0} -> 3',\n",
       " '{5, 0} -> 4',\n",
       " '{15, 13} -> 3',\n",
       " '{1, 4} -> 9',\n",
       " '{3, 0} -> 8',\n",
       " '{1, 1} -> 9',\n",
       " '{16, 16} -> 2',\n",
       " '{9, 1} -> 6',\n",
       " '{2, 4} -> 2',\n",
       " '{14, 13} -> 6',\n",
       " '{3, 1} -> 8',\n",
       " '{1, 9} -> 1',\n",
       " '{2, 0} -> 2',\n",
       " '{18, 15} -> 7',\n",
       " '{3, 3} -> 3',\n",
       " '{12, 7} -> 10',\n",
       " '{7, 0} -> 3',\n",
       " '{14, 10} -> 5',\n",
       " '{4, 8} -> 12',\n",
       " '{2, 11} -> 2',\n",
       " '{7, 1} -> 2',\n",
       " '{15, 10} -> 7',\n",
       " '{6, 9} -> 4',\n",
       " '{16, 12} -> 2']"
      ]
     },
     "execution_count": 69,
     "metadata": {},
     "output_type": "execute_result"
    }
   ],
   "source": [
    "highest_confidence_rules"
   ]
  },
  {
   "cell_type": "code",
   "execution_count": 70,
   "metadata": {},
   "outputs": [
    {
     "data": {
      "text/plain": [
       "['{10, 3} -> 8',\n",
       " '{5, 4} -> 8',\n",
       " '{12, 11} -> 8',\n",
       " '{10, 3} -> 4',\n",
       " '{5, 2} -> 3',\n",
       " '{5, 2} -> 10',\n",
       " '{12, 11} -> 5',\n",
       " '{9, 5} -> 2',\n",
       " '{10, 3} -> 7',\n",
       " '{5, 4} -> 3',\n",
       " '{5, 2} -> 7',\n",
       " '{5, 2} -> 12',\n",
       " '{9, 5} -> 9',\n",
       " '{5, 2} -> 2',\n",
       " '{9, 5} -> 13',\n",
       " '{10, 3} -> 9',\n",
       " '{10, 3} -> 3',\n",
       " '{5, 4} -> 6',\n",
       " '{5, 4} -> 9',\n",
       " '{10, 3} -> 6',\n",
       " '{5, 2} -> 9',\n",
       " '{10, 3} -> 10',\n",
       " '{9, 5} -> 5',\n",
       " '{5, 2} -> 4',\n",
       " '{9, 5} -> 4',\n",
       " '{5, 3} -> 5',\n",
       " '{6, 3} -> 2',\n",
       " '{6, 3} -> 7',\n",
       " '{4, 2} -> 7',\n",
       " '{9, 7} -> 9',\n",
       " '{10, 8} -> 8',\n",
       " '{10, 8} -> 9',\n",
       " '{11, 8} -> 4',\n",
       " '{9, 7} -> 5',\n",
       " '{9, 7} -> 3',\n",
       " '{11, 8} -> 3',\n",
       " '{10, 8} -> 10',\n",
       " '{10, 8} -> 5',\n",
       " '{9, 7} -> 7',\n",
       " '{6, 4} -> 5',\n",
       " '{6, 4} -> 11',\n",
       " '{11, 10} -> 7',\n",
       " '{10, 8} -> 3',\n",
       " '{11, 8} -> 6',\n",
       " '{6, 4} -> 8',\n",
       " '{6, 4} -> 9',\n",
       " '{9, 8} -> 7',\n",
       " '{4, 2} -> 3',\n",
       " '{4, 2} -> 12',\n",
       " '{4, 2} -> 6',\n",
       " '{11, 10} -> 2',\n",
       " '{6, 4} -> 3',\n",
       " '{11, 8} -> 1',\n",
       " '{11, 10} -> 8',\n",
       " '{4, 2} -> 2',\n",
       " '{11, 10} -> 6',\n",
       " '{9, 8} -> 11',\n",
       " '{9, 8} -> 2',\n",
       " '{10, 8} -> 2',\n",
       " '{9, 8} -> 3',\n",
       " '{11, 10} -> 3',\n",
       " '{11, 8} -> 7',\n",
       " '{11, 8} -> 10',\n",
       " '{8, 8} -> 3',\n",
       " '{7, 3} -> 2',\n",
       " '{7, 2} -> 1',\n",
       " '{9, 4} -> 3',\n",
       " '{7, 3} -> 14',\n",
       " '{7, 5} -> 6',\n",
       " '{8, 8} -> 4',\n",
       " '{7, 5} -> 7',\n",
       " '{8, 8} -> 8',\n",
       " '{7, 3} -> 10',\n",
       " '{8, 8} -> 7',\n",
       " '{9, 4} -> 11',\n",
       " '{9, 4} -> 8',\n",
       " '{9, 4} -> 6',\n",
       " '{7, 2} -> 6',\n",
       " '{7, 3} -> 8',\n",
       " '{9, 4} -> 9',\n",
       " '{7, 5} -> 2',\n",
       " '{9, 4} -> 4',\n",
       " '{8, 8} -> 5',\n",
       " '{8, 8} -> 2',\n",
       " '{8, 8} -> 9',\n",
       " '{9, 4} -> 1',\n",
       " '{7, 3} -> 3',\n",
       " '{8, 4} -> 6',\n",
       " '{8, 4} -> 7',\n",
       " '{8, 4} -> 2',\n",
       " '{9, 6} -> 10',\n",
       " '{9, 9} -> 9',\n",
       " '{8, 6} -> 7',\n",
       " '{9, 6} -> 1',\n",
       " '{9, 9} -> 10',\n",
       " '{9, 9} -> 1',\n",
       " '{8, 6} -> 5',\n",
       " '{9, 6} -> 2',\n",
       " '{9, 9} -> 6',\n",
       " '{9, 9} -> 4',\n",
       " '{5, 5} -> 5',\n",
       " '{5, 5} -> 7',\n",
       " '{7, 4} -> 3',\n",
       " '{7, 4} -> 9',\n",
       " '{7, 6} -> 6',\n",
       " '{9, 3} -> 3',\n",
       " '{7, 6} -> 1',\n",
       " '{9, 3} -> 4',\n",
       " '{9, 3} -> 8',\n",
       " '{7, 6} -> 8',\n",
       " '{9, 3} -> 11',\n",
       " '{9, 3} -> 13',\n",
       " '{5, 5} -> 12',\n",
       " '{7, 6} -> 5',\n",
       " '{5, 5} -> 9',\n",
       " '{5, 5} -> 3',\n",
       " '{7, 6} -> 11',\n",
       " '{7, 6} -> 12',\n",
       " '{8, 3} -> 2',\n",
       " '{8, 3} -> 8',\n",
       " '{6, 2} -> 3',\n",
       " '{6, 2} -> 4',\n",
       " '{12, 11} -> 7',\n",
       " '{12, 11} -> 2',\n",
       " '{12, 11} -> 1',\n",
       " '{6, 3} -> 9',\n",
       " '{5, 3} -> 4',\n",
       " '{6, 3} -> 10',\n",
       " '{5, 3} -> 1',\n",
       " '{6, 3} -> 6',\n",
       " '{5, 3} -> 12',\n",
       " '{5, 3} -> 10',\n",
       " '{5, 3} -> 2',\n",
       " '{6, 3} -> 5',\n",
       " '{6, 3} -> 12',\n",
       " '{5, 3} -> 6',\n",
       " '{6, 3} -> 1',\n",
       " '{6, 3} -> 4',\n",
       " '{6, 5} -> 8',\n",
       " '{6, 5} -> 6',\n",
       " '{6, 5} -> 9',\n",
       " '{6, 5} -> 3',\n",
       " '{6, 5} -> 4',\n",
       " '{6, 5} -> 7',\n",
       " '{7, 5} -> 1',\n",
       " '{7, 5} -> 4',\n",
       " '{7, 5} -> 5',\n",
       " '{7, 5} -> 8',\n",
       " '{8, 4} -> 13',\n",
       " '{8, 4} -> 16',\n",
       " '{11, 11} -> 7',\n",
       " '{8, 4} -> 10',\n",
       " '{11, 11} -> 12',\n",
       " '{11, 11} -> 10',\n",
       " '{8, 4} -> 1',\n",
       " '{8, 4} -> 9']"
      ]
     },
     "execution_count": 70,
     "metadata": {},
     "output_type": "execute_result"
    }
   ],
   "source": [
    "low_confidence_rules"
   ]
  },
  {
   "cell_type": "code",
   "execution_count": 71,
   "metadata": {},
   "outputs": [],
   "source": [
    "frequent_item_sets_str = [str(item) for item in frequent_item_sets]\n",
    "freq_itemset_df = pd.DataFrame(frequent_item_sets_str)\n",
    "freq_itemset_df.to_csv('Results_1.csv', index = False, header = False)"
   ]
  },
  {
   "cell_type": "code",
   "execution_count": 56,
   "metadata": {},
   "outputs": [],
   "source": [
    "highest_conf_rules_df = pd.DataFrame(highest_confidence_rules)\n",
    "highest_conf_rules_df.to_csv('Results_2.csv', index = False, header = False)"
   ]
  },
  {
   "cell_type": "code",
   "execution_count": 57,
   "metadata": {},
   "outputs": [],
   "source": [
    "low_conf_rules_df = pd.DataFrame(low_confidence_rules)\n",
    "low_conf_rules_df.to_csv('Results_3.csv', index = False, header = False)"
   ]
  },
  {
   "cell_type": "code",
   "execution_count": null,
   "metadata": {},
   "outputs": [],
   "source": []
  },
  {
   "cell_type": "code",
   "execution_count": null,
   "metadata": {},
   "outputs": [],
   "source": []
  }
 ],
 "metadata": {
  "kernelspec": {
   "display_name": "Python 3",
   "language": "python",
   "name": "python3"
  },
  "language_info": {
   "codemirror_mode": {
    "name": "ipython",
    "version": 3
   },
   "file_extension": ".py",
   "mimetype": "text/x-python",
   "name": "python",
   "nbconvert_exporter": "python",
   "pygments_lexer": "ipython3",
   "version": "3.7.11"
  }
 },
 "nbformat": 4,
 "nbformat_minor": 2
}
